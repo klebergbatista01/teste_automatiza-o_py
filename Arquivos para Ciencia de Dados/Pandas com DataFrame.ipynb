{
 "cells": [
  {
   "cell_type": "code",
   "execution_count": 4,
   "id": "f6beb2ee",
   "metadata": {},
   "outputs": [],
   "source": [
    "import pandas as pd\n",
    "alunos = {'Nome':['Ricardo', 'Kleber', 'Pedro', 'Carlos'],\n",
    "         'Nota':[4, 7, 5.5, 9],\n",
    "         'Aprovado':['Não', 'Sim', 'Não', 'Sim']}"
   ]
  },
  {
   "cell_type": "code",
   "execution_count": 5,
   "id": "563d1184",
   "metadata": {},
   "outputs": [],
   "source": [
    "dataframe = pd.DataFrame(alunos)"
   ]
  },
  {
   "cell_type": "code",
   "execution_count": 6,
   "id": "842bf0e8",
   "metadata": {},
   "outputs": [
    {
     "data": {
      "text/html": [
       "<div>\n",
       "<style scoped>\n",
       "    .dataframe tbody tr th:only-of-type {\n",
       "        vertical-align: middle;\n",
       "    }\n",
       "\n",
       "    .dataframe tbody tr th {\n",
       "        vertical-align: top;\n",
       "    }\n",
       "\n",
       "    .dataframe thead th {\n",
       "        text-align: right;\n",
       "    }\n",
       "</style>\n",
       "<table border=\"1\" class=\"dataframe\">\n",
       "  <thead>\n",
       "    <tr style=\"text-align: right;\">\n",
       "      <th></th>\n",
       "      <th>Nome</th>\n",
       "      <th>Nota</th>\n",
       "      <th>Aprovado</th>\n",
       "    </tr>\n",
       "  </thead>\n",
       "  <tbody>\n",
       "    <tr>\n",
       "      <th>0</th>\n",
       "      <td>Ricardo</td>\n",
       "      <td>4.0</td>\n",
       "      <td>Não</td>\n",
       "    </tr>\n",
       "    <tr>\n",
       "      <th>1</th>\n",
       "      <td>Kleber</td>\n",
       "      <td>7.0</td>\n",
       "      <td>Sim</td>\n",
       "    </tr>\n",
       "    <tr>\n",
       "      <th>2</th>\n",
       "      <td>Pedro</td>\n",
       "      <td>5.5</td>\n",
       "      <td>Não</td>\n",
       "    </tr>\n",
       "    <tr>\n",
       "      <th>3</th>\n",
       "      <td>Carlos</td>\n",
       "      <td>9.0</td>\n",
       "      <td>Sim</td>\n",
       "    </tr>\n",
       "  </tbody>\n",
       "</table>\n",
       "</div>"
      ],
      "text/plain": [
       "      Nome  Nota Aprovado\n",
       "0  Ricardo   4.0      Não\n",
       "1   Kleber   7.0      Sim\n",
       "2    Pedro   5.5      Não\n",
       "3   Carlos   9.0      Sim"
      ]
     },
     "metadata": {},
     "output_type": "display_data"
    }
   ],
   "source": [
    "display(dataframe)"
   ]
  },
  {
   "cell_type": "code",
   "execution_count": 8,
   "id": "1418211d",
   "metadata": {},
   "outputs": [
    {
     "name": "stdout",
     "output_type": "stream",
     "text": [
      "0     2\n",
      "1     6\n",
      "2     9\n",
      "3    14\n",
      "4    15\n",
      "5     8\n",
      "dtype: int64\n"
     ]
    }
   ],
   "source": [
    "objetos1 = pd.Series([2, 6, 9, 14, 15, 8])\n",
    "print(objetos1)"
   ]
  },
  {
   "cell_type": "code",
   "execution_count": 9,
   "id": "b92b4ef0",
   "metadata": {},
   "outputs": [
    {
     "name": "stdout",
     "output_type": "stream",
     "text": [
      "[ 2  6  9 14 15  8]\n"
     ]
    }
   ],
   "source": [
    "import numpy as np\n",
    "array = np.array([2, 6, 9, 14, 15, 8])\n",
    "print(array)"
   ]
  },
  {
   "cell_type": "code",
   "execution_count": 11,
   "id": "acf1ffe6",
   "metadata": {},
   "outputs": [
    {
     "name": "stdout",
     "output_type": "stream",
     "text": [
      "[[ 2  6  9 14 15  8]\n",
      " [ 2  3  7  5  7  9]]\n"
     ]
    }
   ],
   "source": [
    "import numpy as np\n",
    "array = np.array([(2, 6, 9, 14, 15, 8), (2, 3, 7, 5, 7, 9)])\n",
    "print(array)"
   ]
  },
  {
   "cell_type": "code",
   "execution_count": null,
   "id": "86b74cf5",
   "metadata": {},
   "outputs": [],
   "source": []
  }
 ],
 "metadata": {
  "kernelspec": {
   "display_name": "Python 3 (ipykernel)",
   "language": "python",
   "name": "python3"
  },
  "language_info": {
   "codemirror_mode": {
    "name": "ipython",
    "version": 3
   },
   "file_extension": ".py",
   "mimetype": "text/x-python",
   "name": "python",
   "nbconvert_exporter": "python",
   "pygments_lexer": "ipython3",
   "version": "3.9.7"
  }
 },
 "nbformat": 4,
 "nbformat_minor": 5
}
