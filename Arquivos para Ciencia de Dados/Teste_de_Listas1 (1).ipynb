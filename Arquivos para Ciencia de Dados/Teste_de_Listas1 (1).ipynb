{
 "cells": [
  {
   "cell_type": "code",
   "execution_count": 3,
   "id": "e5133a39",
   "metadata": {},
   "outputs": [],
   "source": [
    "lista1 = [1, 2, 3]"
   ]
  },
  {
   "cell_type": "code",
   "execution_count": 4,
   "id": "251e3d6d",
   "metadata": {},
   "outputs": [
    {
     "data": {
      "text/plain": [
       "list"
      ]
     },
     "execution_count": 4,
     "metadata": {},
     "output_type": "execute_result"
    }
   ],
   "source": [
    "type(lista1)"
   ]
  },
  {
   "cell_type": "code",
   "execution_count": 9,
   "id": "69c23689",
   "metadata": {},
   "outputs": [],
   "source": [
    "lista2 = [[1,2,3], [4,5,6], [7,8,9]]"
   ]
  },
  {
   "cell_type": "code",
   "execution_count": 10,
   "id": "75a58508",
   "metadata": {},
   "outputs": [
    {
     "data": {
      "text/plain": [
       "3"
      ]
     },
     "execution_count": 10,
     "metadata": {},
     "output_type": "execute_result"
    }
   ],
   "source": [
    "lista2[0][2]"
   ]
  },
  {
   "cell_type": "code",
   "execution_count": 13,
   "id": "577ba7cd",
   "metadata": {},
   "outputs": [
    {
     "name": "stdout",
     "output_type": "stream",
     "text": [
      "8\n"
     ]
    }
   ],
   "source": [
    "select = lista2[2][1]\n",
    "print(select)"
   ]
  },
  {
   "cell_type": "code",
   "execution_count": 14,
   "id": "1af22a1e",
   "metadata": {},
   "outputs": [
    {
     "data": {
      "text/plain": [
       "int"
      ]
     },
     "execution_count": 14,
     "metadata": {},
     "output_type": "execute_result"
    }
   ],
   "source": [
    "type(select)"
   ]
  },
  {
   "cell_type": "code",
   "execution_count": 18,
   "id": "19bc843d",
   "metadata": {},
   "outputs": [
    {
     "name": "stdout",
     "output_type": "stream",
     "text": [
      "A cidade escolhida é: Presidente Epitacio\n"
     ]
    }
   ],
   "source": [
    "import random\n",
    "cidades = ['Presidente Epitacio', 'Presidente Venceslau', 'Presidente Prudente', 'Presidente Bernardes']\n",
    "escolhida = random.choice(cidades)\n",
    "print(\"A cidade escolhida é:\", escolhida)"
   ]
  },
  {
   "cell_type": "code",
   "execution_count": 20,
   "id": "22ed6246",
   "metadata": {},
   "outputs": [],
   "source": [
    "a = [1, 2, 3]"
   ]
  },
  {
   "cell_type": "code",
   "execution_count": 21,
   "id": "e868393e",
   "metadata": {},
   "outputs": [],
   "source": [
    "a.append(15)"
   ]
  },
  {
   "cell_type": "code",
   "execution_count": 22,
   "id": "9b75f521",
   "metadata": {},
   "outputs": [
    {
     "name": "stdout",
     "output_type": "stream",
     "text": [
      "[1, 2, 3, 15]\n"
     ]
    }
   ],
   "source": [
    "print(a)"
   ]
  },
  {
   "cell_type": "code",
   "execution_count": 24,
   "id": "c4275578",
   "metadata": {},
   "outputs": [],
   "source": [
    "b = [7, 8, 9]"
   ]
  },
  {
   "cell_type": "code",
   "execution_count": 25,
   "id": "c7545b83",
   "metadata": {},
   "outputs": [
    {
     "name": "stdout",
     "output_type": "stream",
     "text": [
      "[1, 2, 3, 15, 7, 8, 9]\n"
     ]
    }
   ],
   "source": [
    "for item in b:\n",
    "    a.append(item)\n",
    "    \n",
    "print(a)    "
   ]
  },
  {
   "cell_type": "code",
   "execution_count": 32,
   "id": "2b64c18f",
   "metadata": {},
   "outputs": [
    {
     "ename": "TypeError",
     "evalue": "float() argument must be a string or a number, not 'list'",
     "output_type": "error",
     "traceback": [
      "\u001b[1;31m---------------------------------------------------------------------------\u001b[0m",
      "\u001b[1;31mTypeError\u001b[0m                                 Traceback (most recent call last)",
      "\u001b[1;32m~\\AppData\\Local\\Temp/ipykernel_28276/3652755101.py\u001b[0m in \u001b[0;36m<module>\u001b[1;34m\u001b[0m\n\u001b[1;32m----> 1\u001b[1;33m \u001b[0mx\u001b[0m \u001b[1;33m=\u001b[0m \u001b[0mfloat\u001b[0m\u001b[1;33m(\u001b[0m\u001b[1;33m[\u001b[0m \u001b[1;36m4\u001b[0m\u001b[1;33m,\u001b[0m \u001b[1;36m5\u001b[0m\u001b[1;33m,\u001b[0m \u001b[1;36m8\u001b[0m\u001b[1;33m,\u001b[0m \u001b[1;36m3\u001b[0m\u001b[1;33m]\u001b[0m\u001b[1;33m)\u001b[0m\u001b[1;33m\u001b[0m\u001b[1;33m\u001b[0m\u001b[0m\n\u001b[0m",
      "\u001b[1;31mTypeError\u001b[0m: float() argument must be a string or a number, not 'list'"
     ]
    }
   ],
   "source": [
    "x = [ 4, 5, 8, 3]"
   ]
  },
  {
   "cell_type": "code",
   "execution_count": 34,
   "id": "0294b421",
   "metadata": {},
   "outputs": [
    {
     "name": "stdout",
     "output_type": "stream",
     "text": [
      "[4.0, 5.0, 8.0, 3.0]\n"
     ]
    }
   ],
   "source": [
    "nova = []\n",
    "for i in x:\n",
    "    nova.append(float(i))\n",
    "    \n",
    "    \n",
    "print(nova)    \n",
    "    "
   ]
  },
  {
   "cell_type": "code",
   "execution_count": 36,
   "id": "1b2c183a",
   "metadata": {},
   "outputs": [
    {
     "name": "stdout",
     "output_type": "stream",
     "text": [
      "[5, 7]\n"
     ]
    }
   ],
   "source": [
    "lista = [3, 5, 7]\n",
    "del lista[0]\n",
    "print (lista)"
   ]
  },
  {
   "cell_type": "code",
   "execution_count": 37,
   "id": "217127d9",
   "metadata": {},
   "outputs": [
    {
     "name": "stdout",
     "output_type": "stream",
     "text": [
      "(5, 7)\n"
     ]
    }
   ],
   "source": [
    "novaTupla = tuple(lista)\n",
    "print(novaTupla)"
   ]
  },
  {
   "cell_type": "code",
   "execution_count": 38,
   "id": "61e09909",
   "metadata": {},
   "outputs": [
    {
     "data": {
      "text/plain": [
       "tuple"
      ]
     },
     "execution_count": 38,
     "metadata": {},
     "output_type": "execute_result"
    }
   ],
   "source": [
    "type(novaTupla)"
   ]
  },
  {
   "cell_type": "code",
   "execution_count": 39,
   "id": "dd1ca43c",
   "metadata": {},
   "outputs": [],
   "source": [
    "numero = (3)"
   ]
  },
  {
   "cell_type": "code",
   "execution_count": 40,
   "id": "383f28c6",
   "metadata": {},
   "outputs": [
    {
     "data": {
      "text/plain": [
       "int"
      ]
     },
     "execution_count": 40,
     "metadata": {},
     "output_type": "execute_result"
    }
   ],
   "source": [
    "type(numero)"
   ]
  },
  {
   "cell_type": "code",
   "execution_count": 41,
   "id": "1150b110",
   "metadata": {},
   "outputs": [],
   "source": [
    "numero = (3,)"
   ]
  },
  {
   "cell_type": "code",
   "execution_count": 42,
   "id": "1d58bacf",
   "metadata": {},
   "outputs": [
    {
     "data": {
      "text/plain": [
       "tuple"
      ]
     },
     "execution_count": 42,
     "metadata": {},
     "output_type": "execute_result"
    }
   ],
   "source": [
    "type(numero)"
   ]
  },
  {
   "cell_type": "code",
   "execution_count": null,
   "id": "5b2855f6",
   "metadata": {},
   "outputs": [],
   "source": []
  }
 ],
 "metadata": {
  "kernelspec": {
   "display_name": "Python 3 (ipykernel)",
   "language": "python",
   "name": "python3"
  },
  "language_info": {
   "codemirror_mode": {
    "name": "ipython",
    "version": 3
   },
   "file_extension": ".py",
   "mimetype": "text/x-python",
   "name": "python",
   "nbconvert_exporter": "python",
   "pygments_lexer": "ipython3",
   "version": "3.9.7"
  }
 },
 "nbformat": 4,
 "nbformat_minor": 5
}
