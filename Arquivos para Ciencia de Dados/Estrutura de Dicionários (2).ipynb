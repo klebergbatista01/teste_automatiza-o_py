{
 "cells": [
  {
   "cell_type": "markdown",
   "id": "95b04845",
   "metadata": {},
   "source": [
    "dicionario: {chave:valor} 💻"
   ]
  },
  {
   "cell_type": "code",
   "execution_count": 2,
   "id": "f94f0ae0",
   "metadata": {},
   "outputs": [],
   "source": [
    "dicionario = {'Curso':'Python para ML',\n",
    "              'Prdutor': 'Didática tech',\n",
    "             'Preço':'Gratuito',\n",
    "             'Nota':10}"
   ]
  },
  {
   "cell_type": "code",
   "execution_count": 3,
   "id": "c4c02507",
   "metadata": {},
   "outputs": [
    {
     "data": {
      "text/plain": [
       "10"
      ]
     },
     "execution_count": 3,
     "metadata": {},
     "output_type": "execute_result"
    }
   ],
   "source": [
    "dicionario['Nota']"
   ]
  },
  {
   "cell_type": "code",
   "execution_count": 4,
   "id": "02efcc63",
   "metadata": {},
   "outputs": [],
   "source": [
    "a = dicionario ['Nota']"
   ]
  },
  {
   "cell_type": "code",
   "execution_count": 5,
   "id": "a036fa66",
   "metadata": {},
   "outputs": [
    {
     "name": "stdout",
     "output_type": "stream",
     "text": [
      "10\n"
     ]
    }
   ],
   "source": [
    "print(a)"
   ]
  },
  {
   "cell_type": "code",
   "execution_count": 6,
   "id": "8f8b7338",
   "metadata": {},
   "outputs": [],
   "source": [
    "a = dicionario ['Preço']"
   ]
  },
  {
   "cell_type": "code",
   "execution_count": 7,
   "id": "d24eeb64",
   "metadata": {},
   "outputs": [
    {
     "name": "stdout",
     "output_type": "stream",
     "text": [
      "Gratuito\n"
     ]
    }
   ],
   "source": [
    "print(a)"
   ]
  },
  {
   "cell_type": "code",
   "execution_count": 8,
   "id": "ddefd417",
   "metadata": {},
   "outputs": [
    {
     "name": "stdout",
     "output_type": "stream",
     "text": [
      "{'Curso': 'Python para ML', 'Prdutor': 'Didática tech', 'Preço': 'R$ 300,00', 'Nota': 10}\n"
     ]
    }
   ],
   "source": [
    "dicionario['Preço'] = 'R$ 300,00'\n",
    "print(dicionario)"
   ]
  },
  {
   "cell_type": "code",
   "execution_count": 9,
   "id": "3748b30d",
   "metadata": {},
   "outputs": [
    {
     "name": "stdout",
     "output_type": "stream",
     "text": [
      "{'Curso': 'Python para ML', 'Prdutor': 'Didática tech', 'Preço': 'R$ 300,00', 'Nota': 10, 'Chave': 'Valor'}\n"
     ]
    }
   ],
   "source": [
    "dicionario['Chave']= 'Valor'\n",
    "print(dicionario)"
   ]
  },
  {
   "cell_type": "code",
   "execution_count": 10,
   "id": "1d27aa80",
   "metadata": {},
   "outputs": [
    {
     "data": {
      "text/plain": [
       "dict_keys(['Curso', 'Prdutor', 'Preço', 'Nota', 'Chave'])"
      ]
     },
     "execution_count": 10,
     "metadata": {},
     "output_type": "execute_result"
    }
   ],
   "source": [
    "dicionario.keys()"
   ]
  },
  {
   "cell_type": "code",
   "execution_count": 11,
   "id": "557d4d6e",
   "metadata": {},
   "outputs": [
    {
     "data": {
      "text/plain": [
       "dict_values(['Python para ML', 'Didática tech', 'R$ 300,00', 10, 'Valor'])"
      ]
     },
     "execution_count": 11,
     "metadata": {},
     "output_type": "execute_result"
    }
   ],
   "source": [
    "dicionario.values()"
   ]
  },
  {
   "cell_type": "code",
   "execution_count": 12,
   "id": "0c5dd81c",
   "metadata": {},
   "outputs": [
    {
     "name": "stdout",
     "output_type": "stream",
     "text": [
      "{}\n"
     ]
    }
   ],
   "source": [
    "dicionario.clear()\n",
    "print(dicionario)"
   ]
  },
  {
   "cell_type": "code",
   "execution_count": null,
   "id": "f5d94d02",
   "metadata": {},
   "outputs": [],
   "source": []
  }
 ],
 "metadata": {
  "kernelspec": {
   "display_name": "Python 3 (ipykernel)",
   "language": "python",
   "name": "python3"
  },
  "language_info": {
   "codemirror_mode": {
    "name": "ipython",
    "version": 3
   },
   "file_extension": ".py",
   "mimetype": "text/x-python",
   "name": "python",
   "nbconvert_exporter": "python",
   "pygments_lexer": "ipython3",
   "version": "3.9.7"
  }
 },
 "nbformat": 4,
 "nbformat_minor": 5
}
