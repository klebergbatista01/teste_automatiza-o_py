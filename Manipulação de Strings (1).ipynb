{
 "cells": [
  {
   "cell_type": "markdown",
   "id": "abcd24b6",
   "metadata": {},
   "source": [
    "# Treino de uso de string"
   ]
  },
  {
   "cell_type": "code",
   "execution_count": 2,
   "id": "4f35c093",
   "metadata": {},
   "outputs": [],
   "source": [
    "frase = 'estou gostando do curso'"
   ]
  },
  {
   "cell_type": "code",
   "execution_count": 4,
   "id": "01dedb2c",
   "metadata": {},
   "outputs": [
    {
     "data": {
      "text/plain": [
       "'tou gosta'"
      ]
     },
     "execution_count": 4,
     "metadata": {},
     "output_type": "execute_result"
    }
   ],
   "source": [
    "frase[2:11]"
   ]
  },
  {
   "cell_type": "code",
   "execution_count": 5,
   "id": "1b043308",
   "metadata": {},
   "outputs": [
    {
     "data": {
      "text/plain": [
       "' gostando do curso'"
      ]
     },
     "execution_count": 5,
     "metadata": {},
     "output_type": "execute_result"
    }
   ],
   "source": [
    "frase[5:]"
   ]
  },
  {
   "cell_type": "code",
   "execution_count": 8,
   "id": "ccac7422",
   "metadata": {},
   "outputs": [
    {
     "data": {
      "text/plain": [
       "'age'"
      ]
     },
     "execution_count": 8,
     "metadata": {},
     "output_type": "execute_result"
    }
   ],
   "source": [
    "frase2 = 'kaggle me ajudou muito'\n",
    "frase2[1:7:2]"
   ]
  },
  {
   "cell_type": "code",
   "execution_count": 9,
   "id": "17e1d486",
   "metadata": {},
   "outputs": [
    {
     "data": {
      "text/plain": [
       "2"
      ]
     },
     "execution_count": 9,
     "metadata": {},
     "output_type": "execute_result"
    }
   ],
   "source": [
    "frase2.count('g')"
   ]
  },
  {
   "cell_type": "code",
   "execution_count": 10,
   "id": "abfb2212",
   "metadata": {},
   "outputs": [
    {
     "data": {
      "text/plain": [
       "5"
      ]
     },
     "execution_count": 10,
     "metadata": {},
     "output_type": "execute_result"
    }
   ],
   "source": [
    "frase.count('o')"
   ]
  },
  {
   "cell_type": "code",
   "execution_count": 11,
   "id": "a4dd3c24",
   "metadata": {},
   "outputs": [
    {
     "data": {
      "text/plain": [
       "23"
      ]
     },
     "execution_count": 11,
     "metadata": {},
     "output_type": "execute_result"
    }
   ],
   "source": [
    "len(frase)"
   ]
  },
  {
   "cell_type": "code",
   "execution_count": 12,
   "id": "80471529",
   "metadata": {},
   "outputs": [
    {
     "data": {
      "text/plain": [
       "22"
      ]
     },
     "execution_count": 12,
     "metadata": {},
     "output_type": "execute_result"
    }
   ],
   "source": [
    "len(frase2)"
   ]
  },
  {
   "cell_type": "code",
   "execution_count": 13,
   "id": "267052b8",
   "metadata": {},
   "outputs": [
    {
     "data": {
      "text/plain": [
       "'estou gostando do aula'"
      ]
     },
     "execution_count": 13,
     "metadata": {},
     "output_type": "execute_result"
    }
   ],
   "source": [
    "frase.replace(\"curso\", \"aula\")\n"
   ]
  },
  {
   "cell_type": "code",
   "execution_count": null,
   "id": "5f0aea46",
   "metadata": {},
   "outputs": [],
   "source": []
  }
 ],
 "metadata": {
  "kernelspec": {
   "display_name": "Python 3 (ipykernel)",
   "language": "python",
   "name": "python3"
  },
  "language_info": {
   "codemirror_mode": {
    "name": "ipython",
    "version": 3
   },
   "file_extension": ".py",
   "mimetype": "text/x-python",
   "name": "python",
   "nbconvert_exporter": "python",
   "pygments_lexer": "ipython3",
   "version": "3.9.7"
  }
 },
 "nbformat": 4,
 "nbformat_minor": 5
}
