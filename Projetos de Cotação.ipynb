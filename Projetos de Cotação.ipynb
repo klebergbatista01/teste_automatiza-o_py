{
 "cells": [
  {
   "cell_type": "markdown",
   "metadata": {},
   "source": [
    "# Automação Web e Busca de Informações com Python\n",
    "\n",
    "#### Desafio: \n",
    "\n",
    "Trabalhamos em uma importadora e o preço dos nossos produtos é vinculado a cotação de:\n",
    "- Dólar\n",
    "- Euro\n",
    "- Ouro\n",
    "\n",
    "Precisamos pegar na internet, de forma automática, a cotação desses 3 itens e saber quanto devemos cobrar pelos nossos produtos, considerando uma margem de contribuição que temos na nossa base de dados.\n",
    "\n",
    "Base de Dados: https://drive.google.com/drive/folders/1KmAdo593nD8J9QBaZxPOG1yxHZua4Rtv?usp=sharing\n",
    "\n",
    "Para isso, vamos criar uma automação web:\n",
    "\n",
    "- Usaremos o selenium\n",
    "- Importante: baixar o webdriver"
   ]
  },
  {
   "cell_type": "code",
   "execution_count": null,
   "metadata": {},
   "outputs": [],
   "source": [
    "from selenium import webdriver\n",
    "from selenium.webdriver.common.keys import Keys # usar o teclado\n",
    "from selenium.webdriver.common.by import By # localizar os itens no navegador\n",
    "\n",
    "#criar navegador\n",
    "navegador = webdriver.Chrome()\n",
    "\n",
    "# entrar no google e pesquisar por cotação do dolar\n",
    "navegador.get(\"https://www.google.com/\")\n",
    "\n",
    "# pegar cotação do dolar\n",
    "navegador.find_element(By.XPATH,\n",
    "                       '/html/body/div[1]/div[3]/form/div[1]/div[1]/div[1]/div/div[2]/input').send_keys(\"cotação dolar\")\n",
    "\n",
    "navegador.find_element(By.XPATH,\n",
    "                       '/html/body/div[1]/div[3]/form/div[1]/div[1]/div[1]/div/div[2]/input').send_keys(Keys.ENTER)\n",
    "\n",
    "cotacao_dolar = navegador.find_element(By.XPATH, '//*[@id=\"knowledge-currency__updatable-data-column\"]/div[1]/div[2]/span[1]').get_attribute('data-value')\n",
    "\n",
    "print(\"Dólar:\", cotacao_dolar)\n",
    "\n",
    "# entrar no google e pesquisar cotação do euro\n",
    "navegador.get(\"https://www.google.com/\")\n",
    "\n",
    "# pegar cotação do euro\n",
    "navegador.find_element(By.XPATH,\n",
    "                       '/html/body/div[1]/div[3]/form/div[1]/div[1]/div[1]/div/div[2]/input').send_keys(\"cotação euro\")\n",
    "\n",
    "navegador.find_element(By.XPATH,\n",
    "                       '/html/body/div[1]/div[3]/form/div[1]/div[1]/div[1]/div/div[2]/input').send_keys(Keys.ENTER)\n",
    "\n",
    "cotacao_euro = navegador.find_element(By.XPATH, '//*[@id=\"knowledge-currency__updatable-data-column\"]/div[1]/div[2]/span[1]').get_attribute('data-value')\n",
    "\n",
    "print(\"Euro:\", cotacao_euro)\n",
    "\n",
    "# entrar no https://www.melhorcambio.com/ouro-hoje\n",
    "navegador.get(\"https://www.melhorcambio.com/ouro-hoje\")\n",
    "\n",
    "cotacao_ouro = navegador.find_element(By.XPATH, '//*[@id=\"comercial\"]').get_attribute('value')\n",
    "\n",
    "cotacao_ouro = cotacao_ouro.replace(\",\", \".\")\n",
    "# pegar cotação do ouro\n",
    "print(\"Ouro:\", cotacao_ouro)\n",
    "\n",
    "navegador.quit()\n",
    "\n"
   ]
  },
  {
   "cell_type": "markdown",
   "metadata": {},
   "source": [
    "### Agora vamos atualiza a nossa base de preços com as novas cotações"
   ]
  },
  {
   "cell_type": "markdown",
   "metadata": {},
   "source": [
    "- Importando a base de dados"
   ]
  },
  {
   "cell_type": "code",
   "execution_count": null,
   "metadata": {
    "scrolled": true
   },
   "outputs": [],
   "source": [
    "# importar a base de dados dos produtos\n",
    "import pandas as pd\n",
    "\n",
    "tabela = pd.read_excel(\"Produtos.xlsx\")\n",
    "display(tabela)"
   ]
  },
  {
   "cell_type": "markdown",
   "metadata": {},
   "source": [
    "- Atualizando os preços e o cálculo do Preço Final"
   ]
  },
  {
   "cell_type": "code",
   "execution_count": null,
   "metadata": {},
   "outputs": [],
   "source": [
    "# atualizar as cotações na base de dados\n",
    "\n",
    "# cotação do dolar\n",
    "tabela.loc[tabela[\"Moeda\"]==\"Dólar\",\"Cotação\"] = float(cotacao_dolar)\n",
    "\n",
    "#cotação do euro\n",
    "tabela.loc[tabela[\"Moeda\"]==\"Euro\",\"Cotação\"] = float(cotacao_euro)\n",
    "\n",
    "#cotação do ouro\n",
    "tabela.loc[tabela[\"Moeda\"]==\"Ouro\",\"Cotação\"] = float(cotacao_ouro)\n",
    "\n",
    "#preço de compra = preço original * cotação\n",
    "tabela[\"Preço de Compra\"] = tabela[\"Preço Original\"] * tabela[\"Cotação\"]\n",
    "\n",
    "# preço de compra = preço original * margem\n",
    "tabela[\"Preço de Vendas\"] = tabela[\"Preço Original\"] * tabela [\"Margem\"]\n",
    "\n",
    "display(tabela)"
   ]
  },
  {
   "cell_type": "code",
   "execution_count": null,
   "metadata": {},
   "outputs": [],
   "source": [
    "### Agora vamos exportar a nova base de preços atualizada\n",
    "tabela.to_excel(\"ProdutosNovo.xlsx\", index= False)\n"
   ]
  },
  {
   "cell_type": "code",
   "execution_count": null,
   "metadata": {},
   "outputs": [],
   "source": []
  }
 ],
 "metadata": {
  "kernelspec": {
   "display_name": "Python 3 (ipykernel)",
   "language": "python",
   "name": "python3"
  },
  "language_info": {
   "codemirror_mode": {
    "name": "ipython",
    "version": 3
   },
   "file_extension": ".py",
   "mimetype": "text/x-python",
   "name": "python",
   "nbconvert_exporter": "python",
   "pygments_lexer": "ipython3",
   "version": "3.9.7"
  }
 },
 "nbformat": 4,
 "nbformat_minor": 4
}
